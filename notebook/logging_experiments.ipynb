{
 "cells": [
  {
   "cell_type": "code",
   "execution_count": 1,
   "id": "e56f5fca",
   "metadata": {},
   "outputs": [
    {
     "name": "stdout",
     "output_type": "stream",
     "text": [
      "24\n"
     ]
    }
   ],
   "source": [
    "print(11+13)"
   ]
  },
  {
   "cell_type": "code",
   "execution_count": 2,
   "id": "bcae7034",
   "metadata": {},
   "outputs": [],
   "source": [
    "import logging\n",
    "import os\n",
    "from datetime import datetime"
   ]
  },
  {
   "cell_type": "code",
   "execution_count": 3,
   "id": "733b6710",
   "metadata": {},
   "outputs": [],
   "source": [
    "logs_dir=os.path.join(os.getcwd(), \"logs\")"
   ]
  },
  {
   "cell_type": "code",
   "execution_count": 4,
   "id": "c98198b4",
   "metadata": {},
   "outputs": [],
   "source": [
    "os.makedirs(logs_dir, exist_ok=True)"
   ]
  },
  {
   "cell_type": "code",
   "execution_count": 5,
   "id": "7387b8ad",
   "metadata": {},
   "outputs": [],
   "source": [
    "LOG_FILE = f\"{datetime.now().strftime('%Y-%m-%d_%H-%M-%S')}.log\""
   ]
  },
  {
   "cell_type": "code",
   "execution_count": 6,
   "id": "d3f18735",
   "metadata": {},
   "outputs": [
    {
     "data": {
      "text/plain": [
       "'2025-07-26_16-27-09.log'"
      ]
     },
     "execution_count": 6,
     "metadata": {},
     "output_type": "execute_result"
    }
   ],
   "source": [
    "LOG_FILE"
   ]
  },
  {
   "cell_type": "code",
   "execution_count": 7,
   "id": "7e7214af",
   "metadata": {},
   "outputs": [
    {
     "data": {
      "text/plain": [
       "'2025-07-26_16-27-09.log'"
      ]
     },
     "execution_count": 7,
     "metadata": {},
     "output_type": "execute_result"
    }
   ],
   "source": [
    "LOG_FILE"
   ]
  },
  {
   "cell_type": "code",
   "execution_count": 8,
   "id": "922f2004",
   "metadata": {},
   "outputs": [],
   "source": [
    "# #today\n",
    "# with today's date log gile will be created \n",
    "\n",
    "# #tomorrow \n",
    "# with tomorrow's date log file will be created "
   ]
  },
  {
   "cell_type": "code",
   "execution_count": 9,
   "id": "a0fe0614",
   "metadata": {},
   "outputs": [],
   "source": [
    "LOG_FILE_PATH=os.path.join(logs_dir, LOG_FILE)"
   ]
  },
  {
   "cell_type": "code",
   "execution_count": 10,
   "id": "aef4a179",
   "metadata": {},
   "outputs": [],
   "source": [
    "logging.basicConfig(\n",
    "    filename=LOG_FILE_PATH,\n",
    "    format=\"[ %(asctime)s ] %(levelname)s %(name)s (line:%(lineno)d) - %(message)s\",\n",
    "    level=logging.INFO,\n",
    ")"
   ]
  },
  {
   "cell_type": "code",
   "execution_count": 11,
   "id": "b0340c61",
   "metadata": {},
   "outputs": [],
   "source": [
    "log = logging.getLogger(\"Document_portal\")"
   ]
  },
  {
   "cell_type": "code",
   "execution_count": 12,
   "id": "da1aad66",
   "metadata": {},
   "outputs": [],
   "source": [
    "log.info(\"This is a new info message\")"
   ]
  },
  {
   "cell_type": "code",
   "execution_count": 13,
   "id": "b3e8f427",
   "metadata": {},
   "outputs": [],
   "source": [
    "import structlog\n",
    "logg = structlog.get_logger(\"Document_portal\")\n"
   ]
  },
  {
   "cell_type": "code",
   "execution_count": 14,
   "id": "66dca667",
   "metadata": {},
   "outputs": [
    {
     "name": "stdout",
     "output_type": "stream",
     "text": [
      "2025-07-26 16:27:09 [info     ] This is a new info message using structlog file=logging_experiments.ipynb user_id=Akash\n"
     ]
    }
   ],
   "source": [
    "logg.info(\"This is a new info message using structlog\", user_id=\"Akash\", file=\"logging_experiments.ipynb\")"
   ]
  },
  {
   "cell_type": "code",
   "execution_count": null,
   "id": "46daebfa",
   "metadata": {},
   "outputs": [],
   "source": []
  }
 ],
 "metadata": {
  "kernelspec": {
   "display_name": "Python 3",
   "language": "python",
   "name": "python3"
  },
  "language_info": {
   "codemirror_mode": {
    "name": "ipython",
    "version": 3
   },
   "file_extension": ".py",
   "mimetype": "text/x-python",
   "name": "python",
   "nbconvert_exporter": "python",
   "pygments_lexer": "ipython3",
   "version": "3.10.18"
  }
 },
 "nbformat": 4,
 "nbformat_minor": 5
}
